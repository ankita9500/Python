{
 "cells": [
  {
   "cell_type": "markdown",
   "id": "2d9fd90f",
   "metadata": {},
   "source": [
    "1. In the below elements which of them are values or an expression? eg:- values can be integer or string and expressions will be mathematical operators.\n",
    "Ans-->\n",
    "1)* = expression\n",
    "2)'hello' = value(string) \n",
    "3)87.8 = value(float)\n",
    "4)- = expression\n",
    "5)/ = expression\n",
    "6)+ = expression\n",
    "7)6 = value(integer)"
   ]
  },
  {
   "cell_type": "markdown",
   "id": "f1cfaa5d",
   "metadata": {},
   "source": [
    "2. What is the difference between string and variable?\n",
    "Ans--> \n",
    "String is data type where varibles can be any type of data like it can be int or float or bool or str . We can say that variable can be string data type nut string is variable is not always true."
   ]
  },
  {
   "cell_type": "markdown",
   "id": "6b044deb",
   "metadata": {},
   "source": [
    "3. Describe three different data types.\n",
    "Ans--> \n",
    "1)Int- it means integer it contain numbers which are not fraction data type without fractional values. e.g: 10, 100, 34 etc\n",
    "2)bool- It contains values true or false\n",
    "\n",
    "3)str - It contain expressions or we can say alphabets like that.\n",
    "\n",
    "e.g: \"ankita\", \"India\", 'aniket' etc"
   ]
  },
  {
   "cell_type": "markdown",
   "id": "24fe1509",
   "metadata": {},
   "source": [
    "4. What is an expression made up of? What do all expressions do?\n",
    "Ans--> \n",
    "Expression is a combination of operators and oprends which is used to interpreted to produce some othr value . Expressions are made of operators and operands."
   ]
  },
  {
   "cell_type": "markdown",
   "id": "2761d54d",
   "metadata": {},
   "source": [
    "5. This assignment statements, like spam = 10. What is the difference between an expression and a statement?\n",
    "Ans-->\n",
    "Statements represent an action or command e.g print statements, assignment statements. Expression is a combination of variables, operations and values that yields a result value.\n",
    "here in above case spam = 10 is a statement"
   ]
  },
  {
   "cell_type": "markdown",
   "id": "b8993194",
   "metadata": {},
   "source": [
    "6. After running the following code, what does the variable bacon contain?\n",
    "bacon = 22\n",
    "bacon + 1"
   ]
  },
  {
   "cell_type": "code",
   "execution_count": 3,
   "id": "068146bf",
   "metadata": {},
   "outputs": [
    {
     "data": {
      "text/plain": [
       "23"
      ]
     },
     "execution_count": 3,
     "metadata": {},
     "output_type": "execute_result"
    }
   ],
   "source": [
    "bacon = 22\n",
    "bacon + 1"
   ]
  },
  {
   "cell_type": "markdown",
   "id": "b973d5d1",
   "metadata": {},
   "source": [
    "Q.7) What should the values of the following two terms be?\n",
    "\n",
    "'spam' + 'spamspam'\n",
    "\n",
    "'spam' * 3\n",
    "Ans--> \n",
    "Here 'spam' gets added for two times but second word alredy contain two times spam so it becomes three times spam. In second case spam gets printed three times because it is multiplied three times."
   ]
  },
  {
   "cell_type": "code",
   "execution_count": 4,
   "id": "684aa711",
   "metadata": {},
   "outputs": [
    {
     "data": {
      "text/plain": [
       "'spamspamspam'"
      ]
     },
     "execution_count": 4,
     "metadata": {},
     "output_type": "execute_result"
    }
   ],
   "source": [
    "'spam'+'spamspam'"
   ]
  },
  {
   "cell_type": "code",
   "execution_count": 5,
   "id": "b8ac8f0a",
   "metadata": {},
   "outputs": [
    {
     "data": {
      "text/plain": [
       "'spamspamspam'"
      ]
     },
     "execution_count": 5,
     "metadata": {},
     "output_type": "execute_result"
    }
   ],
   "source": [
    "'spam'*3"
   ]
  },
  {
   "cell_type": "markdown",
   "id": "58d235e3",
   "metadata": {},
   "source": [
    "Q.8) Why is eggs a valid variable name while 100 is invalid?\n",
    "\n",
    "Ans--> \n",
    "eggs is a valid variable name because variable name can start with alphabet and it should not contain any special characters . But 100 is invalid because Variable name can contain numbers but it cannot start with numbers.that's why 100 is invalid and eggs is valid variable name. A variable cannot starts with number."
   ]
  },
  {
   "cell_type": "markdown",
   "id": "ce861c2d",
   "metadata": {},
   "source": [
    "9. What three functions can be used to get the integer, floating-point number, or string version of a value?\n",
    "Ans--> \n",
    "By converting their values.. like,\n",
    "int()\n",
    "float()\n",
    "str()"
   ]
  },
  {
   "cell_type": "markdown",
   "id": "6f6195c9",
   "metadata": {},
   "source": [
    "10. Why does this expression cause an error? How can you fix it?'\n",
    "'I have eaten'+99+'burritos.'\n",
    "Ans-->\n",
    "This expression cause type error because 99 is an integer type. We cannot concatenate str to int. By converting 99 into a str type “99” we can fix this error.\n",
    "'I have eaten ' + ‘99’ + ' burritos.' (or) \n",
    "'I have eaten ' + str(99) + ' burritos.'"
   ]
  }
 ],
 "metadata": {
  "kernelspec": {
   "display_name": "Python 3 (ipykernel)",
   "language": "python",
   "name": "python3"
  },
  "language_info": {
   "codemirror_mode": {
    "name": "ipython",
    "version": 3
   },
   "file_extension": ".py",
   "mimetype": "text/x-python",
   "name": "python",
   "nbconvert_exporter": "python",
   "pygments_lexer": "ipython3",
   "version": "3.9.13"
  }
 },
 "nbformat": 4,
 "nbformat_minor": 5
}
