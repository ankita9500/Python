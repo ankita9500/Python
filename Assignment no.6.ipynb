{
 "cells": [
  {
   "cell_type": "markdown",
   "id": "827e68bb",
   "metadata": {},
   "source": [
    "Q1. Describe three applications for exception processing."
   ]
  },
  {
   "cell_type": "markdown",
   "id": "e7c73621",
   "metadata": {},
   "source": [
    "ANS -->Input Validation: Exception processing can be used to valiadate user input in the applications.\n",
    "When user provides input, the program can check whether the input is valid or not. If input is not valid,an exception can be raised and the program can display an error message or take  appproprite\n",
    "action to handle the error\n",
    "\n",
    "2)Database operation:Exception processing can also be used in database operations .When database operation fails an exception is raised to indicate failure.This can help the program handle the error by retrying the operation looping the error or notifying the user of the error\n",
    "\n",
    "3)File operations: Exception processing can be used in file operations as well. When a file cannot be opened, read, or written, an exception can be raised to indicate the error. The program can then handle the error by displaying an error message or taking appropriate action to recover from the error."
   ]
  },
  {
   "cell_type": "markdown",
   "id": "fc2dc783",
   "metadata": {},
   "source": [
    "Q2. What happens if you don't do something extra to treat an exception?"
   ]
  },
  {
   "cell_type": "markdown",
   "id": "56bfb211",
   "metadata": {},
   "source": [
    "ANS--> If you don't do extra to treat an exception handling the  program will get terminated abnormally when the exception occurs.The program will exit with doing intended task."
   ]
  },
  {
   "cell_type": "markdown",
   "id": "26f0a018",
   "metadata": {},
   "source": [
    "Q3. What are your options for recovering from an exception in your script?"
   ]
  },
  {
   "cell_type": "markdown",
   "id": "84f3d9f4",
   "metadata": {},
   "source": [
    "ANS--> 1.Try Catch block- exception get caught in the catch block\n",
    "2.Retry the operation.\n",
    "3.Provide the alternate options or functionality"
   ]
  },
  {
   "cell_type": "markdown",
   "id": "3f37cd06",
   "metadata": {},
   "source": [
    "Q4. Describe two methods for triggering exceptions in your script."
   ]
  },
  {
   "cell_type": "markdown",
   "id": "9bf25395",
   "metadata": {},
   "source": [
    "ANS-->Using 'raise' keyword use 'raise' keyword intentionally to raise an exception in the code\n",
    "2.Calling function that raise an exception .eg:The 'open()' function in python raise 'FileNotFound' error."
   ]
  },
  {
   "cell_type": "markdown",
   "id": "c3b343c9",
   "metadata": {},
   "source": [
    "Q5. Identify two methods for specifying actions to be executed at termination time, regardless of\n",
    "whether or not an exception exists."
   ]
  },
  {
   "cell_type": "markdown",
   "id": "7bc520d8",
   "metadata": {},
   "source": [
    "ANS-->Using a 'finally' block: A finally block is used to specify a set of actions that should be executed regardless of whether or not an exception occurs in the try block. The finally block is always executed, even if an exception occurs or if a return statement is executed.\n",
    "2.Using the 'atexit' module: The atexit module provides a way to register functions that should be called when the program exits. These functions are called in the reverse order in which they were registered, regardless of whether or not an exception occurred. "
   ]
  },
  {
   "cell_type": "markdown",
   "id": "448e55fc",
   "metadata": {},
   "source": [
    "6. What are the values of the given expressions?\n",
    "'Hello, world!'[1]\n",
    "\n",
    "'Hello, world!'[0:5]\n",
    "\n",
    "'Hello, world!'[:5]\n",
    "\n",
    "'Hello, world!'[3:]\n",
    "\n",
    "ANS--->1)'e'\n",
    "\n",
    "2)'Hello'\n",
    "\n",
    "3)'Hello'\n",
    "\n",
    "4)'lo, world!'\n",
    "\n",
    "7.What are the values of the following expressions?\n",
    "'Hello'.upper()\n",
    "\n",
    "'Hello'.upper().isupper()\n",
    "\n",
    "'Hello'.upper().lower()\n",
    "\n",
    "ANS--->1)'HELLO'\n",
    "\n",
    "2)True\n",
    "\n",
    "3)False\n",
    "\n",
    "8.What are the values of the following expressions?\n",
    "'Remember, remember,the fifth of july.'.split()"
   ]
  },
  {
   "cell_type": "code",
   "execution_count": 1,
   "id": "2cbb25d3",
   "metadata": {},
   "outputs": [
    {
     "data": {
      "text/plain": [
       "['Remember,', 'remember,the', 'fifth', 'of', 'july.']"
      ]
     },
     "execution_count": 1,
     "metadata": {},
     "output_type": "execute_result"
    }
   ],
   "source": [
    "'Remember, remember,the fifth of july.'.split()\n",
    "     "
   ]
  },
  {
   "cell_type": "markdown",
   "id": "39b545a8",
   "metadata": {},
   "source": [
    "9.What are the methods for right-justifying, left-justifying, and centering a string?\n",
    "ANS--->1)For right-justifying : we use str.rjust()\n",
    "\n",
    "2)For left-justifying : we use str.ljust()\n",
    "\n",
    "3)for centering : we use str.centering()\n",
    "\n",
    "10.What is the best way to remove whitespace characters from the start or end?\n",
    "\n",
    "Ans--->We use str.strip() to remove whitespaces from the begning and the end of the string.\n",
    "\n"
   ]
  }
 ],
 "metadata": {
  "kernelspec": {
   "display_name": "Python 3 (ipykernel)",
   "language": "python",
   "name": "python3"
  },
  "language_info": {
   "codemirror_mode": {
    "name": "ipython",
    "version": 3
   },
   "file_extension": ".py",
   "mimetype": "text/x-python",
   "name": "python",
   "nbconvert_exporter": "python",
   "pygments_lexer": "ipython3",
   "version": "3.9.13"
  }
 },
 "nbformat": 4,
 "nbformat_minor": 5
}
