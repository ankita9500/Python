{
 "cells": [
  {
   "cell_type": "markdown",
   "id": "3abf45a6",
   "metadata": {},
   "source": [
    "1. Write a Python Program to Find LCM?"
   ]
  },
  {
   "cell_type": "code",
   "execution_count": 1,
   "id": "25e077d0",
   "metadata": {},
   "outputs": [],
   "source": [
    "def LCM(x,y):\n",
    "    \n",
    "    if x>y:\n",
    "        greater = x\n",
    "    else:\n",
    "        greater = y\n",
    "        \n",
    "    while (True):\n",
    "        if ((greater % x== 0) and (greater %y ==0)):\n",
    "            LCM = greater\n",
    "            break\n",
    "        greater +=1\n",
    "        \n",
    "    return LCM"
   ]
  },
  {
   "cell_type": "code",
   "execution_count": 2,
   "id": "c52f4b1f",
   "metadata": {},
   "outputs": [
    {
     "data": {
      "text/plain": [
       "72"
      ]
     },
     "execution_count": 2,
     "metadata": {},
     "output_type": "execute_result"
    }
   ],
   "source": [
    "LCM(24,36)"
   ]
  },
  {
   "cell_type": "markdown",
   "id": "12d0490c",
   "metadata": {},
   "source": [
    "2. Write a Python Program to Find HCF?"
   ]
  },
  {
   "cell_type": "code",
   "execution_count": 3,
   "id": "8a5de8ef",
   "metadata": {},
   "outputs": [],
   "source": [
    "def HCF(x,y):\n",
    "    \n",
    "    if x>y:\n",
    "        smaller =y\n",
    "    else :\n",
    "        smaller = x\n",
    "    for i in range(1,smaller+1):\n",
    "        if ((x%i ==0)and (y%i==0)):\n",
    "            HCF =i\n",
    "    return HCF"
   ]
  },
  {
   "cell_type": "code",
   "execution_count": 4,
   "id": "4c3536d4",
   "metadata": {},
   "outputs": [
    {
     "data": {
      "text/plain": [
       "10"
      ]
     },
     "execution_count": 4,
     "metadata": {},
     "output_type": "execute_result"
    }
   ],
   "source": [
    "HCF(90,70)"
   ]
  },
  {
   "cell_type": "markdown",
   "id": "c86a9093",
   "metadata": {},
   "source": [
    "3. Write a Python Program to Convert Decimal to Binary, Octal and Hexadecimal?"
   ]
  },
  {
   "cell_type": "code",
   "execution_count": 5,
   "id": "2b1c6be5",
   "metadata": {},
   "outputs": [
    {
     "name": "stdout",
     "output_type": "stream",
     "text": [
      "0b10101 in binary \n",
      "0o25 in octal \n",
      "0x15 in hexadecimal\n"
     ]
    }
   ],
   "source": [
    "number = 21\n",
    "print(bin(number),\"in binary \")\n",
    "print(oct(number),\"in octal \")\n",
    "print(hex(number),\"in hexadecimal\")"
   ]
  },
  {
   "cell_type": "markdown",
   "id": "01ea10e1",
   "metadata": {},
   "source": [
    "4. Write a Python Program To Find ASCII value of a character?"
   ]
  },
  {
   "cell_type": "code",
   "execution_count": 7,
   "id": "655d4f28",
   "metadata": {},
   "outputs": [
    {
     "name": "stdout",
     "output_type": "stream",
     "text": [
      "Enter the character ofwhich you want the ASCII value :a\n",
      "97\n"
     ]
    }
   ],
   "source": [
    "a = input(\"Enter the character ofwhich you want the ASCII value :\")\n",
    "print(ord(a))"
   ]
  },
  {
   "cell_type": "markdown",
   "id": "9acc8312",
   "metadata": {},
   "source": [
    "5. Write a Python Program to Make a Simple Calculator with 4 basic mathematical operations?"
   ]
  },
  {
   "cell_type": "code",
   "execution_count": 8,
   "id": "328edb4c",
   "metadata": {},
   "outputs": [],
   "source": [
    "def Addition(a,b):\n",
    "    return a+b\n",
    "def Subtraction(a,b):\n",
    "    return a-b\n",
    "def Multiplication(a,b):\n",
    "    return a*b\n",
    "def Division(a,b):\n",
    "    return a/b"
   ]
  },
  {
   "cell_type": "code",
   "execution_count": 9,
   "id": "3ea9977b",
   "metadata": {},
   "outputs": [
    {
     "data": {
      "text/plain": [
       "92"
      ]
     },
     "execution_count": 9,
     "metadata": {},
     "output_type": "execute_result"
    }
   ],
   "source": [
    "Addition(2,90)"
   ]
  },
  {
   "cell_type": "code",
   "execution_count": 10,
   "id": "d7e9d7a6",
   "metadata": {},
   "outputs": [
    {
     "data": {
      "text/plain": [
       "1"
      ]
     },
     "execution_count": 10,
     "metadata": {},
     "output_type": "execute_result"
    }
   ],
   "source": [
    "Subtraction(10,9)"
   ]
  },
  {
   "cell_type": "code",
   "execution_count": 11,
   "id": "453b85dc",
   "metadata": {},
   "outputs": [
    {
     "data": {
      "text/plain": [
       "6396"
      ]
     },
     "execution_count": 11,
     "metadata": {},
     "output_type": "execute_result"
    }
   ],
   "source": [
    "Multiplication(82,78)"
   ]
  },
  {
   "cell_type": "code",
   "execution_count": 12,
   "id": "8829e47d",
   "metadata": {},
   "outputs": [
    {
     "data": {
      "text/plain": [
       "5.0"
      ]
     },
     "execution_count": 12,
     "metadata": {},
     "output_type": "execute_result"
    }
   ],
   "source": [
    "Division(90,18)"
   ]
  },
  {
   "cell_type": "code",
   "execution_count": null,
   "id": "f4ca191c",
   "metadata": {},
   "outputs": [],
   "source": []
  }
 ],
 "metadata": {
  "kernelspec": {
   "display_name": "Python 3 (ipykernel)",
   "language": "python",
   "name": "python3"
  },
  "language_info": {
   "codemirror_mode": {
    "name": "ipython",
    "version": 3
   },
   "file_extension": ".py",
   "mimetype": "text/x-python",
   "name": "python",
   "nbconvert_exporter": "python",
   "pygments_lexer": "ipython3",
   "version": "3.9.13"
  }
 },
 "nbformat": 4,
 "nbformat_minor": 5
}
