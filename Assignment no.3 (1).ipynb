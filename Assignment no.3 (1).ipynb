{
 "cells": [
  {
   "cell_type": "markdown",
   "metadata": {
    "id": "SEi_pB7tktr4"
   },
   "source": [
    "Q.1) Why are functions advantageous to have in your programs?\n",
    "\n",
    "Ans:-Functions are used to increase the re-useability of the code.\n",
    "we don't need while programming same statements again and again.Functions reduce the need for writing code again and again. Function makes programs shorter, easier to read, and easier to update.\n",
    "instead of writing code again and again it's better to use function.\n"
   ]
  },
  {
   "cell_type": "markdown",
   "metadata": {
    "id": "dX_5OPlB9387"
   },
   "source": [
    "Q.2) When does the code in a function run: when it's specified or when it's called?\n",
    "\n",
    "Ans:-The code in a function run when the function is called,not when the function is specified.\n"
   ]
  },
  {
   "cell_type": "markdown",
   "metadata": {
    "id": "vRMeTT3NJ8Bz"
   },
   "source": [
    "Q.3) What statement creates a function?\n",
    "\n",
    "Ans:-'def'creates a function,is the keyword which defines the function.we start the function by def keyword."
   ]
  },
  {
   "cell_type": "markdown",
   "metadata": {
    "id": "DBZPkxq2KCyH"
   },
   "source": [
    "Q.4) What is the difference between a function and a function call?\n",
    "\n",
    "Ans:-Function is a block of code that does a particular operation and returns a result.It usually accepts inputs as parameters and returns a result. The parameters are not mandatory. A function call is the code used to pass control to a function.\n"
   ]
  },
  {
   "cell_type": "markdown",
   "metadata": {
    "id": "guanZvOMPY8s"
   },
   "source": [
    "Q.5) How many global scopes are there in a Python program? How many local scopes?\n",
    "\n",
    "Ans:-At any given time during execution, we will have at most four active Python scopes—local, enclosing, global, and built-in—depending on where you are in the code. On the other hand, we will always have at least two active scopes"
   ]
  },
  {
   "cell_type": "markdown",
   "metadata": {
    "id": "Vy2OHC3jPftH"
   },
   "source": [
    "Q.6) What happens to variables in a local scope when the function call returns?\n",
    "\n",
    "Ans:-The local variables get destroyed when variables in local scope when the function call returns."
   ]
  },
  {
   "cell_type": "markdown",
   "metadata": {
    "id": "BRC7D9w2PihK"
   },
   "source": [
    "Q.7) What is the concept of a return value? Is it possible to have a return value in an expression?\n",
    "\n",
    "Ans:-Any value, a return value can be used as part of an expression,A return is a value that a function returns to the calling script or function when it completes its task. A return value can be any one of the four variable types: float, integer, boolean or string. The type of value your function returns depends largely on the task it performs.\n"
   ]
  },
  {
   "cell_type": "markdown",
   "metadata": {
    "id": "QG6visUfPqCU"
   },
   "source": [
    "Q.8) If a function does not have a return statement, what is the return value of a call to that function?\n",
    "\n",
    "Ans:-It will implicitly return default value which is none. it will return nothing."
   ]
  },
  {
   "cell_type": "markdown",
   "metadata": {
    "id": "-jwk0B0QBT4A"
   },
   "source": [
    "Q.9) How do you make a function variable refer to the global variable?\n",
    "\n",
    "Ans:-when you create a variable inside a function, that variable is local, and can only be used inside that function. To create a global variable inside a function, you can use the global keyword."
   ]
  },
  {
   "cell_type": "markdown",
   "metadata": {
    "id": "O6yrRAWWBu3a"
   },
   "source": [
    "Q.10) What is the data type of None?\n",
    "\n",
    "ANS:-None has its own data type none type."
   ]
  },
  {
   "cell_type": "markdown",
   "metadata": {
    "id": "3zY9aTsJCZMZ"
   },
   "source": [
    "Q.11) What does the sentence import areallyourpetsnamederic do?\n",
    "\n",
    "Ans:- It import module which names areallyourpetsnamederic.\n"
   ]
  },
  {
   "cell_type": "markdown",
   "metadata": {
    "id": "YtpntnBvCvq8"
   },
   "source": [
    "Q.12)If you had a bacon() feature in a spam module, what would you call it after importing spam?\n",
    "\n",
    "Ans:-The function can be called with spam.bacon()"
   ]
  },
  {
   "cell_type": "markdown",
   "metadata": {
    "id": "ruP9H7reDEN5"
   },
   "source": [
    "Q.13) What can you do to save a programme from crashing if it encounters an error?\n",
    "\n",
    "Ans:-We can use try except clause to save a program from crashing.Try to run the program. Try to run the program."
   ]
  },
  {
   "cell_type": "markdown",
   "metadata": {
    "id": "61Ilh-vtDUuK"
   },
   "source": [
    "Q.14)What is the purpose of the try clause? What is the purpose of the except clause?\n",
    "\n",
    "Ans:-The try block lets you test a block of code for errors. The except block lets you handle the error. The else block lets you execute code when there is no error. The finally block lets you execute code, regardless of the result of the try and except blocks.\n"
   ]
  }
 ],
 "metadata": {
  "colab": {
   "provenance": []
  },
  "kernelspec": {
   "display_name": "Python 3 (ipykernel)",
   "language": "python",
   "name": "python3"
  },
  "language_info": {
   "codemirror_mode": {
    "name": "ipython",
    "version": 3
   },
   "file_extension": ".py",
   "mimetype": "text/x-python",
   "name": "python",
   "nbconvert_exporter": "python",
   "pygments_lexer": "ipython3",
   "version": "3.9.13"
  }
 },
 "nbformat": 4,
 "nbformat_minor": 1
}
