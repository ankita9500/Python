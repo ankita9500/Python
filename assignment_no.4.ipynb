{
 "cells": [
  {
   "cell_type": "markdown",
   "id": "fc322e76",
   "metadata": {},
   "source": [
    "1. What exactly is []?\n",
    "\n",
    "Ans---> these square brackets are used to denote the list. sometimes while to denote the index or in index slicing it is used."
   ]
  },
  {
   "cell_type": "markdown",
   "id": "1650084f",
   "metadata": {},
   "source": [
    "2. In a list of values stored in a variable called spam, how would you assign the value 'hello' as the third value? (Assume [2, 4, 6, 8, 10] are in spam.)\n",
    "\n"
   ]
  },
  {
   "cell_type": "code",
   "execution_count": 1,
   "id": "7d3f5c36",
   "metadata": {},
   "outputs": [
    {
     "name": "stdout",
     "output_type": "stream",
     "text": [
      "[2, 4, 'hello', 8, 10]\n"
     ]
    }
   ],
   "source": [
    "spam =[2,4,6,8,10]\n",
    "spam[2]\n",
    "\n",
    "for i in range(len(spam)):\n",
    "    if spam[i]==6:\n",
    "       spam[i]='hello'\n",
    "       print(spam)"
   ]
  },
  {
   "cell_type": "code",
   "execution_count": 2,
   "id": "475df7ed",
   "metadata": {},
   "outputs": [
    {
     "name": "stdout",
     "output_type": "stream",
     "text": [
      "[2, 4, 'hello', 8, 10]\n"
     ]
    }
   ],
   "source": [
    "spam = [2,4,6,8,10]\n",
    "\n",
    "i = 0\n",
    "while i < len(spam):\n",
    "  \n",
    "    # replace hardik with shardul\n",
    "    if spam[i] == 6:\n",
    "        spam[i] = 'hello'\n",
    "\n",
    "    i += 1\n",
    "  \n",
    "print(spam)"
   ]
  },
  {
   "cell_type": "markdown",
   "id": "51bc00e6",
   "metadata": {},
   "source": [
    "Let pretend the spam includes the list['a','b','c','d'] for next three quiries.\n",
    "\n",
    "3.What is the value of spam[int(int(3* 2) / 11)]?\n",
    "4.What is the value of spam[-1]?\n",
    "5.What is the value of spam[:2]?"
   ]
  },
  {
   "cell_type": "code",
   "execution_count": 3,
   "id": "332683c4",
   "metadata": {},
   "outputs": [
    {
     "data": {
      "text/plain": [
       "'a'"
      ]
     },
     "execution_count": 3,
     "metadata": {},
     "output_type": "execute_result"
    }
   ],
   "source": [
    "spam = ['a','b','c','d']\n",
    "spam[int(int(3*2)/11)]\n",
    "     "
   ]
  },
  {
   "cell_type": "code",
   "execution_count": 4,
   "id": "97898436",
   "metadata": {},
   "outputs": [
    {
     "data": {
      "text/plain": [
       "'d'"
      ]
     },
     "execution_count": 4,
     "metadata": {},
     "output_type": "execute_result"
    }
   ],
   "source": [
    "\n",
    "spam[-1]"
   ]
  },
  {
   "cell_type": "code",
   "execution_count": 5,
   "id": "71b89025",
   "metadata": {},
   "outputs": [
    {
     "data": {
      "text/plain": [
       "['a', 'b']"
      ]
     },
     "execution_count": 5,
     "metadata": {},
     "output_type": "execute_result"
    }
   ],
   "source": [
    "\n",
    "spam[:2]"
   ]
  },
  {
   "cell_type": "markdown",
   "id": "199969f6",
   "metadata": {},
   "source": [
    "Let's pretend bacon has the list [3.14, 'cat', 11,'cat',True] for the next three questions.\n",
    "\n",
    "6.What is the value of bacon.index('cat')?\n",
    "Ans--->1\n",
    "\n",
    "7.How does bacon.append(99) change the look of the list value in bacon?\n",
    "\n",
    "8.How does bacon.remove(cat) change the look of the list in bacon?"
   ]
  },
  {
   "cell_type": "code",
   "execution_count": 6,
   "id": "3cbcc8d4",
   "metadata": {},
   "outputs": [],
   "source": [
    "bacon=[3.14,'cat',11,'cat',True]\n",
    "bacon.append(99)"
   ]
  },
  {
   "cell_type": "code",
   "execution_count": 7,
   "id": "c0cc2466",
   "metadata": {},
   "outputs": [
    {
     "data": {
      "text/plain": [
       "[3.14, 'cat', 11, 'cat', True, 99]"
      ]
     },
     "execution_count": 7,
     "metadata": {},
     "output_type": "execute_result"
    }
   ],
   "source": [
    "bacon"
   ]
  },
  {
   "cell_type": "markdown",
   "id": "53e38ff3",
   "metadata": {},
   "source": [
    "99 will get added to the end."
   ]
  },
  {
   "cell_type": "code",
   "execution_count": 8,
   "id": "5fe744ac",
   "metadata": {},
   "outputs": [
    {
     "data": {
      "text/plain": [
       "[3.14, 'cat', 11, 'cat', True, 99]"
      ]
     },
     "execution_count": 8,
     "metadata": {},
     "output_type": "execute_result"
    }
   ],
   "source": [
    "bacon"
   ]
  },
  {
   "cell_type": "code",
   "execution_count": 9,
   "id": "8199eafa",
   "metadata": {},
   "outputs": [],
   "source": [
    "\n",
    "bacon.remove('cat')"
   ]
  },
  {
   "cell_type": "code",
   "execution_count": 10,
   "id": "fa03ab0a",
   "metadata": {},
   "outputs": [
    {
     "data": {
      "text/plain": [
       "[3.14, 11, 'cat', True, 99]"
      ]
     },
     "execution_count": 10,
     "metadata": {},
     "output_type": "execute_result"
    }
   ],
   "source": [
    "bacon"
   ]
  },
  {
   "cell_type": "markdown",
   "id": "09a1fe39",
   "metadata": {},
   "source": [
    "9. What are the list concatenation and list replication operators?"
   ]
  },
  {
   "cell_type": "code",
   "execution_count": 11,
   "id": "6f29873c",
   "metadata": {},
   "outputs": [
    {
     "name": "stdout",
     "output_type": "stream",
     "text": [
      "[1, 2, 3, 4, 5, 1, 2, 3, 4, 5]\n"
     ]
    }
   ],
   "source": [
    "l = [1,2,3,4,5]\n",
    "l1= 2*l\n",
    "print(l1)"
   ]
  },
  {
   "cell_type": "markdown",
   "id": "7656ef04",
   "metadata": {},
   "source": [
    "In list concatentation we use '+' and replication operator '*'"
   ]
  },
  {
   "cell_type": "markdown",
   "id": "9f039394",
   "metadata": {},
   "source": [
    "10. What is difference between the list methods append() and insert()?\n",
    "\n",
    "Ans--->In append function the given variable is added at the end of the list but in insert function the variables needs the position input where it get to added.\n",
    "\n",
    "11. What are the two methods for removing items from a list?\n",
    "\n",
    "Ans---> first method to remove the item from the list is remove() by specifying the variable into the bracket.\n",
    "\n",
    "12. Describe how list values and string values are identical.\n",
    "\n",
    "ANS---> Both strings and lists have lengths is the number of character in the string, a list length is number of items in the list each character in the string as well as each item in the list have a position called index.\n",
    "\n",
    "13. What's the difference between tuples and lists?\n",
    "\n",
    "Ans---> Tuples are immutable which means we cannot edit the tuples when it values are given but in case of lists we can make changes in lists"
   ]
  },
  {
   "cell_type": "markdown",
   "id": "0d5b18cd",
   "metadata": {},
   "source": [
    "15.How do you type a tuple value that only contains the integer 42?"
   ]
  },
  {
   "cell_type": "code",
   "execution_count": 12,
   "id": "43b5e74e",
   "metadata": {},
   "outputs": [
    {
     "name": "stdout",
     "output_type": "stream",
     "text": [
      "(1, 2, 3, 4, 5, 6)\n"
     ]
    }
   ],
   "source": [
    "\n",
    "l =[1,2,3,4,5,6]\n",
    "l1 =tuple(l)\n",
    "print(l1)"
   ]
  },
  {
   "cell_type": "code",
   "execution_count": 13,
   "id": "5d669020",
   "metadata": {},
   "outputs": [
    {
     "data": {
      "text/plain": [
       "tuple"
      ]
     },
     "execution_count": 13,
     "metadata": {},
     "output_type": "execute_result"
    }
   ],
   "source": [
    "type(l1)"
   ]
  },
  {
   "cell_type": "code",
   "execution_count": 14,
   "id": "98ed2b41",
   "metadata": {},
   "outputs": [],
   "source": [
    "\n",
    "l1 =(1,2,3,4,5)\n",
    "l2 = list(l1)"
   ]
  },
  {
   "cell_type": "code",
   "execution_count": 15,
   "id": "21e80dbc",
   "metadata": {},
   "outputs": [
    {
     "data": {
      "text/plain": [
       "[1, 2, 3, 4, 5]"
      ]
     },
     "execution_count": 15,
     "metadata": {},
     "output_type": "execute_result"
    }
   ],
   "source": [
    "l2"
   ]
  },
  {
   "cell_type": "code",
   "execution_count": 16,
   "id": "99c98521",
   "metadata": {},
   "outputs": [
    {
     "data": {
      "text/plain": [
       "list"
      ]
     },
     "execution_count": 16,
     "metadata": {},
     "output_type": "execute_result"
    }
   ],
   "source": [
    "type(l2)\n",
    "     "
   ]
  },
  {
   "cell_type": "markdown",
   "id": "6c3d71ec",
   "metadata": {},
   "source": [
    "16. Variables that \"contain\" list values are not necessarily lists themselves. Instead, what do they\n",
    "contain?\n",
    "\n",
    "ANS--->Variables will contain refrences to the list values rather than list values themselves\n",
    "\n",
    "17. How do you distinguish between copy.copy() and copy.deepcopy()?\n",
    "\n",
    "Ans---> In copy.copy() when we change the values in original list or copied list then change will reflect in both the list as both lists share same refrence. but in copy.deepcopy() if we make changes in one of the list that change will reflect only in that list\n",
    "\n"
   ]
  },
  {
   "cell_type": "code",
   "execution_count": null,
   "id": "8593c317",
   "metadata": {},
   "outputs": [],
   "source": []
  }
 ],
 "metadata": {
  "kernelspec": {
   "display_name": "Python 3 (ipykernel)",
   "language": "python",
   "name": "python3"
  },
  "language_info": {
   "codemirror_mode": {
    "name": "ipython",
    "version": 3
   },
   "file_extension": ".py",
   "mimetype": "text/x-python",
   "name": "python",
   "nbconvert_exporter": "python",
   "pygments_lexer": "ipython3",
   "version": "3.9.13"
  }
 },
 "nbformat": 4,
 "nbformat_minor": 5
}
